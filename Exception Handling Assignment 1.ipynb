{
 "cells": [
  {
   "cell_type": "markdown",
   "id": "da697440-2fe2-43e7-9d88-d5c2f24c4bdf",
   "metadata": {},
   "source": [
    "Q1. What is an Exception in pthon? Write the difference between Exceptions and syntax errors."
   ]
  },
  {
   "cell_type": "markdown",
   "id": "611f9b24-3eed-40c3-a9e7-4a49d71cb0d8",
   "metadata": {},
   "source": [
    "Ans:- An exception is an event, which occurs during the execution of a program that disrupts the normal flow of the program's instructions."
   ]
  },
  {
   "cell_type": "raw",
   "id": "0c64bc8b-e7fc-428a-92c7-7d888ec96f28",
   "metadata": {},
   "source": [
    "# difference \n",
    "syntax errors:- syntax error mostly happen at compile time.\n",
    "Exceptions:- Exceptions occurs at run time."
   ]
  },
  {
   "cell_type": "markdown",
   "id": "f77a5f8b-8352-4b30-aab6-f2e8324d06f6",
   "metadata": {},
   "source": [
    "Q2. What happens when an exception is not handled? Explain withan example."
   ]
  },
  {
   "cell_type": "markdown",
   "id": "99571396-d47e-40d8-b3c7-872205747c2f",
   "metadata": {},
   "source": [
    "Ans:- When an exception occurred, if you don’t handle it, the program terminates abruptly and the code past the line that caused the exception will not get executed."
   ]
  },
  {
   "cell_type": "code",
   "execution_count": 1,
   "id": "16a2cc1a-0e56-459f-a919-63a379c8293b",
   "metadata": {},
   "outputs": [
    {
     "name": "stdout",
     "output_type": "stream",
     "text": [
      "error\n"
     ]
    }
   ],
   "source": [
    "# Example\n",
    "import os\n",
    "try:\n",
    "    working_dir = os.getcdw()\n",
    "    print(working_dir)\n",
    "except:\n",
    "    print('error')"
   ]
  },
  {
   "cell_type": "markdown",
   "id": "e5ee854f-b6dd-4562-956e-6ed0fcb57500",
   "metadata": {},
   "source": [
    "Q3. Which Python statements are used to catch and handle exceptions? Explain withan example"
   ]
  },
  {
   "cell_type": "markdown",
   "id": "af148eb0-bd15-47c1-a282-cd4b005e1844",
   "metadata": {},
   "source": [
    "Ans:- try and except block in python is used to catch and handle exceptions."
   ]
  },
  {
   "cell_type": "code",
   "execution_count": 2,
   "id": "34d6c92b-7e47-4df4-8a6b-876f93d0d66c",
   "metadata": {},
   "outputs": [
    {
     "name": "stdout",
     "output_type": "stream",
     "text": [
      "This is an zero division error handling division by zero\n"
     ]
    }
   ],
   "source": [
    "#Example\n",
    "try:\n",
    "    a=10\n",
    "    a/0\n",
    "except Exception as e:\n",
    "    print(\"This is an zero division error handling\",e)"
   ]
  },
  {
   "cell_type": "raw",
   "id": "f71724c6-0d2f-4ada-875c-d10009d015b7",
   "metadata": {},
   "source": [
    "Q4. Explain with an example:\n",
    "a.try and else\n",
    "b.finally\n",
    "c.raise"
   ]
  },
  {
   "cell_type": "raw",
   "id": "bb2e6c3a-ca07-449c-89b1-bcfad91ed5a1",
   "metadata": {},
   "source": [
    "Ans:- try:- The try block lets you test a block of code for errors.\n",
    "      else:-  The else block lets you execute code when there is no error. \n",
    "      finally:- The finally block lets you execute code, regardless of the result of the try- and except blocks.\n",
    "      raise:- raises a specific exception when a condition is met or the code encounters an error."
   ]
  },
  {
   "cell_type": "code",
   "execution_count": 3,
   "id": "f10c7b65-b2a3-414b-bbe4-443b359ae640",
   "metadata": {},
   "outputs": [
    {
     "name": "stdout",
     "output_type": "stream",
     "text": [
      "there is some issue with my code [Errno 2] No such file or directory: 'test7.txt'\n",
      "i will execute always\n"
     ]
    }
   ],
   "source": [
    "# example\n",
    "try:\n",
    "    f=open(\"test7.txt\",\"r\")\n",
    "    f.write(\"this is my message\")\n",
    "except Exception as e:\n",
    "    print(\"there is some issue with my code\",e)\n",
    "else:\n",
    "    f.close()\n",
    "    print(\"this block will execute once try will execute itself without an exception\")\n",
    "finally:\n",
    "    print(\"i will execute always\")"
   ]
  },
  {
   "cell_type": "code",
   "execution_count": 4,
   "id": "e75bbf7c-c4ea-456d-ba9b-1b9f83528a74",
   "metadata": {},
   "outputs": [
    {
     "name": "stdin",
     "output_type": "stream",
     "text": [
      "enter your age -30\n"
     ]
    }
   ],
   "source": [
    "#example of raise\n",
    "age = int(input(\"enter your age\"))"
   ]
  },
  {
   "cell_type": "code",
   "execution_count": 5,
   "id": "118af31b-939f-487d-a97b-889819c4aaf5",
   "metadata": {},
   "outputs": [],
   "source": [
    "class validateage(Exception):\n",
    "    def __init__(self,msg):\n",
    "        self.msg=msg"
   ]
  },
  {
   "cell_type": "code",
   "execution_count": 6,
   "id": "c055b9a4-729a-4e26-99ca-1ee80dede529",
   "metadata": {},
   "outputs": [],
   "source": [
    "def validate_age(age):\n",
    "    if age<0:\n",
    "        raise validateage(\"age is lesser than zero\")\n",
    "    elif age>200:\n",
    "        raise validateage(\"age is high\")\n",
    "    else:\n",
    "        print(\"age is validate\")"
   ]
  },
  {
   "cell_type": "code",
   "execution_count": 7,
   "id": "5a375bc6-bf90-4d1b-84e1-ab908e35505a",
   "metadata": {},
   "outputs": [
    {
     "name": "stdin",
     "output_type": "stream",
     "text": [
      "enter your age 18\n"
     ]
    },
    {
     "name": "stdout",
     "output_type": "stream",
     "text": [
      "age is validate\n"
     ]
    }
   ],
   "source": [
    "try:\n",
    "    age = int(input(\"enter your age\"))\n",
    "    validate_age(age)\n",
    "except validateage as e:\n",
    "    print(e)"
   ]
  },
  {
   "cell_type": "markdown",
   "id": "83a9f97d-e6f2-4ef4-a0d4-efbc6d596ce2",
   "metadata": {},
   "source": [
    "Q5. What are Custom Exceptions in python? Why do we need Custom Exceptions? Explain with an example"
   ]
  },
  {
   "cell_type": "markdown",
   "id": "f55ae267-8a67-475b-8f77-c90bed0f2aaa",
   "metadata": {},
   "source": [
    "Ans:- Custom Exceptions:- Custom exceptions are useful in situations where you want to handle specific errors in a program."
   ]
  },
  {
   "cell_type": "markdown",
   "id": "0ffc6cc5-0bfc-4f4d-9c25-cdb0c5f942fd",
   "metadata": {},
   "source": [
    "# need of custom exceptions\n",
    "can make your code much more readable and robust, and reduce the amount of code you write later to try and figure out what exactly went wrong."
   ]
  },
  {
   "cell_type": "code",
   "execution_count": 1,
   "id": "129fbd9f-e711-45fa-94bf-d9d7d4509231",
   "metadata": {},
   "outputs": [
    {
     "name": "stdin",
     "output_type": "stream",
     "text": [
      "enter your age -30\n"
     ]
    }
   ],
   "source": [
    "# example\n",
    "age = int(input(\"enter your age\"))"
   ]
  },
  {
   "cell_type": "code",
   "execution_count": 2,
   "id": "7a663d05-c55d-443d-9406-2c5f089e4747",
   "metadata": {},
   "outputs": [],
   "source": [
    "class validateage(Exception):\n",
    "    def __init__(self,msg):\n",
    "        self.msg=msg"
   ]
  },
  {
   "cell_type": "code",
   "execution_count": 3,
   "id": "f86ccc23-2315-4371-ad61-d256b4f331b1",
   "metadata": {},
   "outputs": [],
   "source": [
    "def validate_age(age):\n",
    "    if age<0:\n",
    "        raise validateage(\"age is lesser than zero\")\n",
    "    elif age>200:\n",
    "        raise validateage(\"age is high\")\n",
    "    else:\n",
    "        print(\"age is validate\")"
   ]
  },
  {
   "cell_type": "code",
   "execution_count": 4,
   "id": "9642dd9f-0338-4c18-acff-1a5dd6dacc40",
   "metadata": {},
   "outputs": [
    {
     "name": "stdin",
     "output_type": "stream",
     "text": [
      "enter your age 18\n"
     ]
    },
    {
     "name": "stdout",
     "output_type": "stream",
     "text": [
      "age is validate\n"
     ]
    }
   ],
   "source": [
    "try:\n",
    "    age = int(input(\"enter your age\"))\n",
    "    validate_age(age)\n",
    "except validateage as e:\n",
    "    print(e)"
   ]
  },
  {
   "cell_type": "markdown",
   "id": "febf96aa-3077-4878-94e1-d0aeeb80c01d",
   "metadata": {},
   "source": [
    "Q6. Create custom exception class. Use this ,class to handle an exception."
   ]
  },
  {
   "cell_type": "code",
   "execution_count": 5,
   "id": "143f4a85-857e-445e-ab82-95b1014db5bb",
   "metadata": {},
   "outputs": [
    {
     "name": "stdin",
     "output_type": "stream",
     "text": [
      "enter your age -20\n"
     ]
    }
   ],
   "source": [
    "age = int(input(\"enter your age\"))"
   ]
  },
  {
   "cell_type": "code",
   "execution_count": 6,
   "id": "5b5465f9-f492-45f6-ab4c-a0b8a228bb92",
   "metadata": {},
   "outputs": [],
   "source": [
    "class validateage(Exception):\n",
    "    def __init__(self,msg):\n",
    "        self.msg=msg"
   ]
  },
  {
   "cell_type": "code",
   "execution_count": 7,
   "id": "4cd49056-6c2a-417c-89ec-d7686a04ffbf",
   "metadata": {},
   "outputs": [],
   "source": [
    "def validate_age(age):\n",
    "    if age<0:\n",
    "        raise validateage(\"age is lesser than zero\")\n",
    "    elif age>200:\n",
    "        raise validateage(\"age is high\")\n",
    "    else:\n",
    "        print(\"age is validate\")"
   ]
  },
  {
   "cell_type": "code",
   "execution_count": 8,
   "id": "596e81f4-4900-4b6d-a966-b9a3dc93ebde",
   "metadata": {},
   "outputs": [
    {
     "name": "stdin",
     "output_type": "stream",
     "text": [
      "enter your age 30\n"
     ]
    },
    {
     "name": "stdout",
     "output_type": "stream",
     "text": [
      "age is validate\n"
     ]
    }
   ],
   "source": [
    "try:\n",
    "    age = int(input(\"enter your age\"))\n",
    "    validate_age(age)\n",
    "except validateage as e:\n",
    "    print(e)"
   ]
  }
 ],
 "metadata": {
  "kernelspec": {
   "display_name": "Python 3 (ipykernel)",
   "language": "python",
   "name": "python3"
  },
  "language_info": {
   "codemirror_mode": {
    "name": "ipython",
    "version": 3
   },
   "file_extension": ".py",
   "mimetype": "text/x-python",
   "name": "python",
   "nbconvert_exporter": "python",
   "pygments_lexer": "ipython3",
   "version": "3.10.8"
  }
 },
 "nbformat": 4,
 "nbformat_minor": 5
}
